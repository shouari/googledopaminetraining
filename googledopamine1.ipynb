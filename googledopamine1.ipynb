{
  "nbformat": 4,
  "nbformat_minor": 0,
  "metadata": {
    "colab": {
      "name": "googledopamine1.ipynb",
      "version": "0.3.2",
      "provenance": [],
      "collapsed_sections": [],
      "include_colab_link": true
    },
    "kernelspec": {
      "name": "python3",
      "display_name": "Python 3"
    }
  },
  "cells": [
    {
      "cell_type": "markdown",
      "metadata": {
        "id": "view-in-github",
        "colab_type": "text"
      },
      "source": [
        "[View in Colaboratory](https://colab.research.google.com/github/shouari/googledopaminetraining/blob/master/googledopamine1.ipynb)"
      ]
    },
    {
      "metadata": {
        "id": "bn7Z68yRegA0",
        "colab_type": "code",
        "colab": {}
      },
      "cell_type": "code",
      "source": [
        "#@title Default title text\n",
        "# Installation\n",
        "!pip install --upgrade --no-cache-dir dopamine-rl\n",
        "!pip install cmake\n",
        "!pip install atari_py"
      ],
      "execution_count": 0,
      "outputs": []
    },
    {
      "metadata": {
        "id": "l6Y10CHuEsi8",
        "colab_type": "code",
        "colab": {}
      },
      "cell_type": "code",
      "source": [
        "# import dependencies\n",
        "import numpy\n",
        "import os\n",
        "from dopamine.agents.dqn import dqn_agent\n",
        "from dopamine.atari import run_experiment\n",
        "from dopamine.colab import utils as colab\n",
        "from absl import flags\n",
        "\n",
        "BASE_PATH = '/tmp/colb_dop_run'\n",
        "GAME = 'asterix'"
      ],
      "execution_count": 0,
      "outputs": []
    },
    {
      "metadata": {
        "id": "VmPIObEBFNog",
        "colab_type": "code",
        "colab": {
          "base_uri": "https://localhost:8080/",
          "height": 133
        },
        "outputId": "7816d4e0-0e73-430e-9279-5c7a590824a7"
      },
      "cell_type": "code",
      "source": [
        "LOG_PATH = os.path.join(BASE_PATH, 'basic_agent', GAME)\n",
        "\n",
        "class BasicAgent(object):\n",
        "  \n",
        "  def __init():\n",
        "    \n",
        "  def _choose_action(self):\n",
        "    \n",
        "    \n",
        "  def bundle_and_checkpoint(self, unused_checkpoint_dir, unused_iteration):\n",
        "    pass\n",
        "  \n",
        "  def unbundle(self, unused_checkpoint_dir, unused_checkpoint_version, unused_data):\n",
        "    pass\n",
        "  \n",
        "  def begin_episode(self, unused_observation):\n",
        "    pass\n",
        "  \n",
        "  def step(self, reward, observation):\n",
        "    return self._choose_action()\n",
        "    "
      ],
      "execution_count": 9,
      "outputs": [
        {
          "output_type": "error",
          "ename": "IndentationError",
          "evalue": "ignored",
          "traceback": [
            "\u001b[0;36m  File \u001b[0;32m\"<ipython-input-9-3ec15fc791cb>\"\u001b[0;36m, line \u001b[0;32m7\u001b[0m\n\u001b[0;31m    def _choose_action(self):\u001b[0m\n\u001b[0m      ^\u001b[0m\n\u001b[0;31mIndentationError\u001b[0m\u001b[0;31m:\u001b[0m expected an indented block\n"
          ]
        }
      ]
    },
    {
      "metadata": {
        "id": "by4mWXstJpSw",
        "colab_type": "code",
        "colab": {}
      },
      "cell_type": "code",
      "source": [
        ""
      ],
      "execution_count": 0,
      "outputs": []
    }
  ]
}